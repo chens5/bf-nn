{
 "cells": [
  {
   "cell_type": "code",
   "execution_count": 2,
   "metadata": {},
   "outputs": [
    {
     "name": "stdout",
     "output_type": "stream",
     "text": [
      "/home/sam/bf-nn\n"
     ]
    },
    {
     "name": "stderr",
     "output_type": "stream",
     "text": [
      "/home/sam/anaconda3/envs/py10-coreset/lib/python3.10/site-packages/IPython/core/magics/osm.py:417: UserWarning: using dhist requires you to install the `pickleshare` library.\n",
      "  self.shell.db['dhist'] = compress_dhist(dhist)[-100:]\n"
     ]
    }
   ],
   "source": [
    "cd /home/sam/bf-nn"
   ]
  },
  {
   "cell_type": "code",
   "execution_count": 3,
   "metadata": {},
   "outputs": [],
   "source": [
    "from src.models import *\n",
    "from src.dataset import * \n",
    "import numpy as np\n",
    "import torch"
   ]
  },
  {
   "cell_type": "code",
   "execution_count": 29,
   "metadata": {},
   "outputs": [],
   "source": [
    "def three_node_path(edge_val, beta = 100):\n",
    "    x = torch.tensor([[0], [edge_val], [beta]], dtype=torch.float)\n",
    "    edge_index = torch.tensor([[0, 1, 1, 2, 0, 1, 2], \n",
    "                               [1, 0, 2, 1, 0, 1, 2]])\n",
    "    edge_attr = torch.unsqueeze(torch.tensor([edge_val, edge_val, 0, 0, 0, 0, 0], dtype=torch.float), dim=1)\n",
    "    y = torch.tensor([[0], [edge_val], [edge_val]], dtype=torch.float)\n",
    "    return x, edge_index, edge_attr, y"
   ]
  },
  {
   "cell_type": "code",
   "execution_count": 35,
   "metadata": {},
   "outputs": [
    {
     "data": {
      "text/plain": [
       "<All keys matched successfully>"
      ]
     },
     "execution_count": 35,
     "metadata": {},
     "output_type": "execute_result"
    }
   ],
   "source": [
    "# load final model\n",
    "\n",
    "bf_nn_final = SimpleBFLayer()\n",
    "\n",
    "model_pth = '/data/sam/bf-nn/l1-regularized-loss-2/final_model.pt'\n",
    "\n",
    "gnn_state = torch.load(model_pth, map_location='cpu')\n",
    "\n",
    "bf_nn_final.load_state_dict(gnn_state)"
   ]
  },
  {
   "cell_type": "code",
   "execution_count": 36,
   "metadata": {},
   "outputs": [],
   "source": [
    "w2 = bf_nn_final.w_2.detach().numpy()\n",
    "W1 = bf_nn_final.W_1.weight.detach().numpy()\n",
    "\n",
    "b1 = bf_nn_final.W_1.bias.detach().numpy()\n",
    "b2 = bf_nn_final.b_2.detach().numpy()"
   ]
  },
  {
   "cell_type": "code",
   "execution_count": 37,
   "metadata": {},
   "outputs": [
    {
     "name": "stdout",
     "output_type": "stream",
     "text": [
      "[[0.04008514 0.9963649 ]] [1.0026937] [2.9952236e-05] [7.181458e-06]\n",
      "[[0.04019311 0.99904877]]\n",
      "[3.7214377e-05]\n"
     ]
    }
   ],
   "source": [
    "print(W1, w2, b1, b2)\n",
    "print(w2 * W1)\n",
    "print(w2 * b1 + b2)"
   ]
  },
  {
   "cell_type": "code",
   "execution_count": 38,
   "metadata": {},
   "outputs": [],
   "source": [
    "def create_star(num_nodes, beta=200):\n",
    "    x = [0]\n",
    "    edge_index = [[], []]\n",
    "    edge_attr = []\n",
    "\n",
    "    for i in range(1, num_nodes):\n",
    "        x.append(beta)\n",
    "        edge_index[0].append(0)\n",
    "        edge_index[1].append(i)\n",
    "        edge_index[0].append(i)\n",
    "        edge_index[1].append(0)\n",
    "\n",
    "        edge_attr.append(i)\n",
    "        edge_attr.append(i)\n",
    "    \n",
    "    # add self loops\n",
    "    self_loops =  torch.vstack((torch.arange(start = 0, end = num_nodes), torch.arange(start = 0, end=num_nodes)))\n",
    "    edge_index = torch.hstack((torch.tensor(edge_index), self_loops))\n",
    "    edge_attr = torch.cat((torch.tensor(edge_attr, dtype=torch.float), torch.zeros(num_nodes)))\n",
    "    x =torch.unsqueeze(torch.tensor(x, dtype=torch.float), dim=1)\n",
    "    edge_attr = torch.unsqueeze(edge_attr, dim=1)\n",
    "    return x, edge_index, edge_attr"
   ]
  },
  {
   "cell_type": "code",
   "execution_count": 39,
   "metadata": {},
   "outputs": [],
   "source": [
    "x, edge_index, edge_attr = create_star(11, beta=100)"
   ]
  },
  {
   "cell_type": "code",
   "execution_count": 40,
   "metadata": {},
   "outputs": [],
   "source": [
    "x, edge_index, edge_attr, _ = three_node_path(1, beta=200)"
   ]
  },
  {
   "cell_type": "code",
   "execution_count": 41,
   "metadata": {},
   "outputs": [
    {
     "data": {
      "text/plain": [
       "tensor([[3.7214e-05],\n",
       "        [4.0230e-02],\n",
       "        [4.0230e-02]], grad_fn=<ReluBackward0>)"
      ]
     },
     "execution_count": 41,
     "metadata": {},
     "output_type": "execute_result"
    }
   ],
   "source": [
    "bf_nn_final(x, edge_index, edge_attr)"
   ]
  },
  {
   "cell_type": "code",
   "execution_count": null,
   "metadata": {},
   "outputs": [],
   "source": []
  }
 ],
 "metadata": {
  "kernelspec": {
   "display_name": "py10-coreset",
   "language": "python",
   "name": "python3"
  },
  "language_info": {
   "codemirror_mode": {
    "name": "ipython",
    "version": 3
   },
   "file_extension": ".py",
   "mimetype": "text/x-python",
   "name": "python",
   "nbconvert_exporter": "python",
   "pygments_lexer": "ipython3",
   "version": "3.10.13"
  },
  "orig_nbformat": 4,
  "vscode": {
   "interpreter": {
    "hash": "e071539cccef4c0bb4ed46693789f6471484fd3e421d82529124a3bb2524ec50"
   }
  }
 },
 "nbformat": 4,
 "nbformat_minor": 2
}
